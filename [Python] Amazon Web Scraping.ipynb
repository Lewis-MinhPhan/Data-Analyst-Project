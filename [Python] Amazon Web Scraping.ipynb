{
 "cells": [
  {
   "cell_type": "markdown",
   "id": "c3626f27",
   "metadata": {},
   "source": [
    "## Amazon Web Scraping "
   ]
  },
  {
   "cell_type": "code",
   "execution_count": 1,
   "id": "05f49350",
   "metadata": {},
   "outputs": [],
   "source": [
    "from bs4 import BeautifulSoup\n",
    "import requests\n",
    "import time\n",
    "import datetime\n",
    "\n",
    "import smtplib"
   ]
  },
  {
   "cell_type": "markdown",
   "id": "d4be6225",
   "metadata": {},
   "source": [
    "### Connect to Website and pull in data"
   ]
  },
  {
   "cell_type": "code",
   "execution_count": 87,
   "id": "0dcaf286",
   "metadata": {},
   "outputs": [
    {
     "name": "stdout",
     "output_type": "stream",
     "text": [
      "Effortless: Make It Easier to Do What Matters Most\n",
      "7.99\n"
     ]
    }
   ],
   "source": [
    "# -- Scrapping the webiste \n",
    "url = 'https://www.amazon.com/Effortless-Make-Easier-What-Matters-ebook/dp/B08F4GGQ2K/ref=pd_rhf_dp_s_pd_sbs_rvi_d_sccl_2_6/140-2446367-8728909?pd_rd_w=m7AmO&content-id=amzn1.sym.d5318d7f-f25b-4b36-88ea-c8d538d27fdf&pf_rd_p=d5318d7f-f25b-4b36-88ea-c8d538d27fdf&pf_rd_r=7Q07M9H3Y1JBG63H9AV9&pd_rd_wg=O5IU7&pd_rd_r=517990aa-e9cf-4e65-af98-c3fe5ee84c53&pd_rd_i=B08F4GGQ2K&psc=1'\n",
    "\n",
    "headers = {\"User-Agent\": \"Mozilla/5.0 (Macintosh; Intel Mac OS X 10_15_7) AppleWebKit/537.36 (KHTML, like Gecko) Chrome/125.0.0.0 Safari/537.36 Edg/125.0.0.0\", \"Accept-Encoding\":\"gzip, deflate\", \"Accept\":\"text/html,application/xhtml+xml,application/xml;q=0.9,*/*;q=0.8\", \"DNT\":\"1\",\"Connection\":\"close\", \"Upgrade-Insecure-Requests\":\"1\"}\n",
    "\n",
    "page = requests.get(url, headers = headers)\n",
    "\n",
    "html_1 = BeautifulSoup(page.content, 'html.parser')\n",
    "html_2 = BeautifulSoup(html_1.prettify(), 'html.parser')\n",
    "\n",
    "\n",
    "\n",
    "# --Extract the product price\n",
    "title = html_2.find(id='productTitle').get_text()\n",
    "title = title.strip()\n",
    "\n",
    "print (title)\n",
    "\n",
    "\n",
    "\n",
    "# --Extract the product price\n",
    "raw_price = html_2.find(id='tmm-grid-swatch-KINDLE').get_text().strip()\n",
    "\n",
    "import re\n",
    "\n",
    "# Find all digits preceeded by a dollar sign $\n",
    "price = re.findall(r\"\\$\\d+\\.\\d{2}\", raw_price)\n",
    "\n",
    "# If no price is found, return None\n",
    "if not price:\n",
    "  price = None\n",
    "\n",
    "# Extract the first price (assuming there should only be one price)\n",
    "price = price[0]\n",
    "price = price[1:]\n",
    "\n",
    "print(price)\n"
   ]
  },
  {
   "cell_type": "code",
   "execution_count": null,
   "id": "60c5478e",
   "metadata": {},
   "outputs": [],
   "source": []
  },
  {
   "cell_type": "markdown",
   "id": "b86ec5d1",
   "metadata": {},
   "source": [
    "### Create a Timestamp"
   ]
  },
  {
   "cell_type": "code",
   "execution_count": 88,
   "id": "3f7901c3",
   "metadata": {},
   "outputs": [
    {
     "name": "stdout",
     "output_type": "stream",
     "text": [
      "2024-06-04\n"
     ]
    }
   ],
   "source": [
    "# Create a Timestamp for output to track when data was collected\n",
    "\n",
    "import datetime\n",
    "\n",
    "today = datetime.date.today()\n",
    "\n",
    "print (today)"
   ]
  },
  {
   "cell_type": "code",
   "execution_count": null,
   "id": "65956764",
   "metadata": {},
   "outputs": [],
   "source": []
  },
  {
   "cell_type": "markdown",
   "id": "844a5b2f",
   "metadata": {},
   "source": [
    "### Create initial CSV file for firt input and appending data to the file"
   ]
  },
  {
   "cell_type": "code",
   "execution_count": 100,
   "id": "36eeb2e6",
   "metadata": {},
   "outputs": [],
   "source": [
    "import csv\n",
    "\n",
    "header = ['Product name', ' Price', 'Date']\n",
    "data = [title, price, today]\n",
    "\n",
    "with open('Amazon_Web_Scaper_Dataset.csv', 'w', newline = '', encoding = 'UTF8') as f:\n",
    "    writer = csv.writer(f)\n",
    "    writer.writerow(header)\n",
    "    writer.writerow(data)"
   ]
  },
  {
   "cell_type": "code",
   "execution_count": 101,
   "id": "03d757d2",
   "metadata": {},
   "outputs": [
    {
     "name": "stdout",
     "output_type": "stream",
     "text": [
      "                                        Product name   Price        Date\n",
      "0  Effortless: Make It Easier to Do What Matters ...    7.99  2024-06-04\n"
     ]
    }
   ],
   "source": [
    "import pandas as pd\n",
    "\n",
    "df = pd.read_csv('/Users/tranelys/Documents/Lewis/Course/The Alex Analyst/Python/Learning/Portfolio Projects/Amazon_Web_Scaper_Dataset.csv')\n",
    "\n",
    "print(df)"
   ]
  },
  {
   "cell_type": "code",
   "execution_count": null,
   "id": "9d220fa1",
   "metadata": {},
   "outputs": [],
   "source": []
  },
  {
   "cell_type": "code",
   "execution_count": 102,
   "id": "915bfc4a",
   "metadata": {},
   "outputs": [],
   "source": [
    "# Appending data to the csv\n",
    "\n",
    "with open('Amazon_Web_Scaper_Dataset.csv', 'a+', newline = '', encoding = 'UTF8') as f:\n",
    "    writer = csv.writer(f)\n",
    "    writer.writerow(data)"
   ]
  },
  {
   "cell_type": "code",
   "execution_count": 103,
   "id": "b334dfba",
   "metadata": {},
   "outputs": [
    {
     "name": "stdout",
     "output_type": "stream",
     "text": [
      "                                        Product name   Price        Date\n",
      "0  Effortless: Make It Easier to Do What Matters ...    7.99  2024-06-04\n",
      "1  Effortless: Make It Easier to Do What Matters ...    7.99  2024-06-04\n"
     ]
    }
   ],
   "source": [
    "import pandas as pd\n",
    "\n",
    "df = pd.read_csv('/Users/tranelys/Documents/Lewis/Course/The Alex Analyst/Python/Learning/Portfolio Projects/Amazon_Web_Scaper_Dataset.csv')\n",
    "\n",
    "print(df)"
   ]
  },
  {
   "cell_type": "code",
   "execution_count": null,
   "id": "243a84a8",
   "metadata": {},
   "outputs": [],
   "source": []
  },
  {
   "cell_type": "markdown",
   "id": "4f6b366a",
   "metadata": {},
   "source": [
    "### Run the web scrapping function after a set time"
   ]
  },
  {
   "cell_type": "code",
   "execution_count": 108,
   "id": "54b1f416",
   "metadata": {},
   "outputs": [],
   "source": [
    "# Create a web scraping function by combining all of the above code into one function\n",
    "\n",
    "def check_price():\n",
    "    # -- Scrapping the webiste \n",
    "    url = 'https://www.amazon.com/Effortless-Make-Easier-What-Matters-ebook/dp/B08F4GGQ2K/ref=pd_rhf_dp_s_pd_sbs_rvi_d_sccl_2_6/140-2446367-8728909?pd_rd_w=m7AmO&content-id=amzn1.sym.d5318d7f-f25b-4b36-88ea-c8d538d27fdf&pf_rd_p=d5318d7f-f25b-4b36-88ea-c8d538d27fdf&pf_rd_r=7Q07M9H3Y1JBG63H9AV9&pd_rd_wg=O5IU7&pd_rd_r=517990aa-e9cf-4e65-af98-c3fe5ee84c53&pd_rd_i=B08F4GGQ2K&psc=1'\n",
    "    headers = {\"User-Agent\": \"Mozilla/5.0 (Macintosh; Intel Mac OS X 10_15_7) AppleWebKit/537.36 (KHTML, like Gecko) Chrome/125.0.0.0 Safari/537.36 Edg/125.0.0.0\", \"Accept-Encoding\":\"gzip, deflate\", \"Accept\":\"text/html,application/xhtml+xml,application/xml;q=0.9,*/*;q=0.8\", \"DNT\":\"1\",\"Connection\":\"close\", \"Upgrade-Insecure-Requests\":\"1\"}\n",
    "    page = requests.get(url, headers = headers)\n",
    "    html_1 = BeautifulSoup(page.content, 'html.parser')\n",
    "    html_2 = BeautifulSoup(html_1.prettify(), 'html.parser')\n",
    "\n",
    "    # --Extract the product price\n",
    "    title = html_2.find(id='productTitle').get_text()\n",
    "    title = title.strip()\n",
    "\n",
    "    # --Extract the product price\n",
    "    raw_price = html_2.find(id='tmm-grid-swatch-KINDLE').get_text().strip()\n",
    "\n",
    "    import re\n",
    "\n",
    "    # Find all digits preceeded by a dollar sign $\n",
    "    price = re.findall(r\"\\$\\d+\\.\\d{2}\", raw_price)\n",
    "\n",
    "    # If no price is found, return None\n",
    "    if not price:\n",
    "      price = None\n",
    "\n",
    "    # Extract the first price (assuming there should only be one price)\n",
    "    price = price[0]\n",
    "    price = price[1:]\n",
    "    \n",
    "    \n",
    "    \n",
    "    # Create a Timetamps\n",
    "    import datetime\n",
    "    today = datetime.date.today()\n",
    "    \n",
    "\n",
    "    # Update data to the CSV file\n",
    "    import csv\n",
    "    header = ['Product name', ' Price', 'Date']\n",
    "    data = [title, price, today]\n",
    "    \n",
    "    with open('Amazon_Web_Scaper_Dataset.csv', 'a+', newline = '', encoding = 'UTF8') as f:\n",
    "        writer = csv.writer(f)\n",
    "        writer.writerow(data)"
   ]
  },
  {
   "cell_type": "code",
   "execution_count": null,
   "id": "4a0da703",
   "metadata": {},
   "outputs": [],
   "source": [
    "# Runs check_price after a set time and inputs data into your CSV\n",
    "\n",
    "while(True):\n",
    "    check_price()\n",
    "    time.sleep(86400)"
   ]
  },
  {
   "cell_type": "code",
   "execution_count": 107,
   "id": "2c9f3672",
   "metadata": {},
   "outputs": [
    {
     "name": "stdout",
     "output_type": "stream",
     "text": [
      "                                          Product name   Price        Date\n",
      "0    Effortless: Make It Easier to Do What Matters ...    7.99  2024-06-04\n",
      "1    Effortless: Make It Easier to Do What Matters ...    7.99  2024-06-04\n",
      "2    Effortless: Make It Easier to Do What Matters ...    7.99  2024-06-04\n",
      "3    Effortless: Make It Easier to Do What Matters ...    7.99  2024-06-04\n",
      "4    Effortless: Make It Easier to Do What Matters ...    7.99  2024-06-04\n",
      "..                                                 ...     ...         ...\n",
      "109  Effortless: Make It Easier to Do What Matters ...    7.99  2024-06-04\n",
      "110  Effortless: Make It Easier to Do What Matters ...    7.99  2024-06-04\n",
      "111  Effortless: Make It Easier to Do What Matters ...    7.99  2024-06-04\n",
      "112  Effortless: Make It Easier to Do What Matters ...    7.99  2024-06-04\n",
      "113  Effortless: Make It Easier to Do What Matters ...    7.99  2024-06-04\n",
      "\n",
      "[114 rows x 3 columns]\n"
     ]
    }
   ],
   "source": [
    "import pandas as pd\n",
    "\n",
    "df = pd.read_csv('/Users/tranelys/Documents/Lewis/Course/The Alex Analyst/Python/Learning/Portfolio Projects/Amazon_Web_Scaper_Dataset.csv')\n",
    "\n",
    "print(df)"
   ]
  },
  {
   "cell_type": "markdown",
   "id": "8c6a6388",
   "metadata": {},
   "source": [
    "### Create a function to send a custom email when meeting the condition"
   ]
  },
  {
   "cell_type": "code",
   "execution_count": null,
   "id": "931352ac",
   "metadata": {},
   "outputs": [],
   "source": [
    "# The script below will send an email notification when a price hits below a target price.\n",
    "\n",
    "def send_mail():\n",
    "    server = smtplib.SMTP_SSL('smtp.gmail.com',465)\n",
    "    server.ehlo()\n",
    "    #server.starttls()\n",
    "    server.ehlo()\n",
    "    server.login('[Replace by your email here]','[Replace by your email password here]')\n",
    "    \n",
    "    subject = \"The book you want is below $5! Now is your chance to buy!\"\n",
    "    body = \"Lewis, Let's by the book you have been waiting for. Link here: https://www.amazon.com/Effortless-Make-Easier-What-Matters-ebook/dp/B08F4GGQ2K/ref=pd_rhf_dp_s_pd_sbs_rvi_d_sccl_2_6/140-2446367-8728909?pd_rd_w=m7AmO&content-id=amzn1.sym.d5318d7f-f25b-4b36-88ea-c8d538d27fdf&pf_rd_p=d5318d7f-f25b-4b36-88ea-c8d538d27fdf&pf_rd_r=7Q07M9H3Y1JBG63H9AV9&pd_rd_wg=O5IU7&pd_rd_r=517990aa-e9cf-4e65-af98-c3fe5ee84c53&pd_rd_i=B08F4GGQ2K&psc=1\"\n",
    "   \n",
    "    msg = f\"Subject: {subject}\\n\\n{body}\"\n",
    "    \n",
    "    server.sendmail(\n",
    "        '[Replace by your email here]',\n",
    "        msg\n",
    "     \n",
    "    )"
   ]
  },
  {
   "cell_type": "code",
   "execution_count": null,
   "id": "278bd1fc",
   "metadata": {},
   "outputs": [],
   "source": []
  }
 ],
 "metadata": {
  "kernelspec": {
   "display_name": "Python 3 (ipykernel)",
   "language": "python",
   "name": "python3"
  },
  "language_info": {
   "codemirror_mode": {
    "name": "ipython",
    "version": 3
   },
   "file_extension": ".py",
   "mimetype": "text/x-python",
   "name": "python",
   "nbconvert_exporter": "python",
   "pygments_lexer": "ipython3",
   "version": "3.11.7"
  }
 },
 "nbformat": 4,
 "nbformat_minor": 5
}
